{
 "cells": [
  {
   "cell_type": "markdown",
   "metadata": {},
   "source": [
    "### {'hussain':100,'sekhar':150}"
   ]
  },
  {
   "cell_type": "code",
   "execution_count": 19,
   "metadata": {},
   "outputs": [
    {
     "name": "stdout",
     "output_type": "stream",
     "text": [
      "{'hussain': 100, 'sekhar': 150, 'rajesh': 70}\n"
     ]
    }
   ],
   "source": [
    "student_marks = [('hussain',[10,30,60]),('sekhar',[40,50,60]),('rajesh',[10,30,30])]\n",
    "students_dict = {}\n",
    "for student in student_marks:\n",
    "    name = student[0]\n",
    "    marks = sum(student[1])\n",
    "    students_dict[name] = marks\n",
    "    \n",
    "print(students_dict)"
   ]
  },
  {
   "cell_type": "code",
   "execution_count": 21,
   "metadata": {},
   "outputs": [
    {
     "name": "stdout",
     "output_type": "stream",
     "text": [
      "sekhar 150\n"
     ]
    }
   ],
   "source": [
    " # only heighest name printed\n",
    "\n",
    "all_marks = students_dict.values()\n",
    "max_marks = max(all_marks)\n",
    "for name in students_dict:\n",
    "    marks = students_dict[name]\n",
    "    if marks == max_marks:\n",
    "        print(name,marks)"
   ]
  },
  {
   "cell_type": "markdown",
   "metadata": {},
   "source": [
    "###  Find the  heighest frequency of website and if multiple website has same frequency represent in alphabet order"
   ]
  },
  {
   "cell_type": "code",
   "execution_count": 23,
   "metadata": {},
   "outputs": [
    {
     "name": "stdout",
     "output_type": "stream",
     "text": [
      "{}\n"
     ]
    }
   ],
   "source": [
    "links = ['www.google.com',\n",
    "         'www.gmail.com',\n",
    "         'www.gmail.com',\n",
    "         'www.google.com',\n",
    "         'www.enadu.net']\n",
    "results ={}\n",
    "print(results)"
   ]
  },
  {
   "cell_type": "code",
   "execution_count": 24,
   "metadata": {},
   "outputs": [
    {
     "ename": "SyntaxError",
     "evalue": "invalid syntax (<ipython-input-24-c50cd02e3ce3>, line 1)",
     "output_type": "error",
     "traceback": [
      "\u001b[1;36m  File \u001b[1;32m\"<ipython-input-24-c50cd02e3ce3>\"\u001b[1;36m, line \u001b[1;32m1\u001b[0m\n\u001b[1;33m    o/p: {2:}['www.gmail.com','www.google.com']}\u001b[0m\n\u001b[1;37m            ^\u001b[0m\n\u001b[1;31mSyntaxError\u001b[0m\u001b[1;31m:\u001b[0m invalid syntax\n"
     ]
    }
   ],
   "source": [
    "o/p: {2:}['www.gmail.com','www.google.com']}"
   ]
  },
  {
   "cell_type": "markdown",
   "metadata": {},
   "source": [
    "### FUnction:\n",
    "   * reusability\n",
    "   * to perform specific task\n",
    "   * passing parameters and result result"
   ]
  },
  {
   "cell_type": "code",
   "execution_count": 25,
   "metadata": {},
   "outputs": [
    {
     "ename": "SyntaxError",
     "evalue": "invalid syntax (<ipython-input-25-5df8a8d425e9>, line 1)",
     "output_type": "error",
     "traceback": [
      "\u001b[1;36m  File \u001b[1;32m\"<ipython-input-25-5df8a8d425e9>\"\u001b[1;36m, line \u001b[1;32m1\u001b[0m\n\u001b[1;33m    def fun_name(arg1,arg2....arg3):\u001b[0m\n\u001b[1;37m                            ^\u001b[0m\n\u001b[1;31mSyntaxError\u001b[0m\u001b[1;31m:\u001b[0m invalid syntax\n"
     ]
    }
   ],
   "source": [
    "def fun_name(arg1,arg2....arg3):\n",
    "    # function body\n",
    "    \n",
    "fun_name(pa1,pa2,pa3....)    "
   ]
  },
  {
   "cell_type": "code",
   "execution_count": 30,
   "metadata": {},
   "outputs": [
    {
     "name": "stdout",
     "output_type": "stream",
     "text": [
      "15\n"
     ]
    }
   ],
   "source": [
    "# Paasing parameters and  return nothing\n",
    "\n",
    "def add(x,y):\n",
    "    print(x+y)\n",
    "    return\n",
    "\n",
    "add(5,10)\n"
   ]
  },
  {
   "cell_type": "code",
   "execution_count": 43,
   "metadata": {},
   "outputs": [
    {
     "name": "stdout",
     "output_type": "stream",
     "text": [
      "11\n"
     ]
    }
   ],
   "source": [
    "# passing arguments and return results\n",
    "\n",
    "def add(x,y):\n",
    "    \n",
    "    return x+y\n",
    "\n",
    "#print(add(5,6))\n",
    "rs=add(5,6)\n",
    "print(rs)"
   ]
  },
  {
   "cell_type": "markdown",
   "metadata": {},
   "source": [
    "### variables\n",
    "- e\n",
    "- qwe\n",
    "- ser2344\n",
    "- se233#\n",
    "### Values\n",
    "- 1\n",
    "- 123\n",
    "- 1234567543\n",
    "- 2345345645678680\n",
    "\n",
    "### Assigning values to a variable\n",
    "- a = 123\n",
    "- wrfsdvsdgdf = 345678908765432\n",
    "- as = 1234324.23423434\n",
    "\n",
    "### function\n",
    "\n",
    " - Syntax\n",
    " \n",
    "- def function_name(parameter1,parameter2):\n",
    "-    print('statement........1')\n",
    "-   print('statement........2')\n",
    "-    print('statement........3')\n",
    "-   return value\n",
    "    "
   ]
  },
  {
   "cell_type": "code",
   "execution_count": 66,
   "metadata": {},
   "outputs": [
    {
     "name": "stdout",
     "output_type": "stream",
     "text": [
      "12\n",
      "34\n",
      "46 46\n"
     ]
    }
   ],
   "source": [
    "def add(a,b):\n",
    "    c123=a+b\n",
    "    return c123\n",
    "\n",
    "\n",
    "#add(t,x)\n",
    "t = int(input())\n",
    "x = int(input())\n",
    "a = add(t,x)\n",
    "print(a,add(t,x))\n",
    "#print(90878765)"
   ]
  },
  {
   "cell_type": "markdown",
   "metadata": {},
   "source": [
    "#### n=int(input())\n",
    "def iseven"
   ]
  }
 ],
 "metadata": {
  "kernelspec": {
   "display_name": "Python 3",
   "language": "python",
   "name": "python3"
  },
  "language_info": {
   "codemirror_mode": {
    "name": "ipython",
    "version": 3
   },
   "file_extension": ".py",
   "mimetype": "text/x-python",
   "name": "python",
   "nbconvert_exporter": "python",
   "pygments_lexer": "ipython3",
   "version": "3.7.3"
  }
 },
 "nbformat": 4,
 "nbformat_minor": 2
}
