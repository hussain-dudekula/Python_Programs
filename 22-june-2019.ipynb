{
 "cells": [
  {
   "cell_type": "markdown",
   "metadata": {},
   "source": [
    "### Data : 22 june 2019\n",
    "\n",
    "### Day Objectives\n",
    "\n",
    "- File Handling\n",
    "     - Basic File Data Processing\n",
    "          - Accessing and Modifying File Data\n",
    "     - Charater Count \n",
    "     - Line Count\n",
    "     - File Size\n",
    "     - Word Count\n",
    "     - Unique  WOrd Connt\n",
    "     "
   ]
  },
  {
   "cell_type": "code",
   "execution_count": 7,
   "metadata": {},
   "outputs": [
    {
     "name": "stdout",
     "output_type": "stream",
     "text": [
      "<class '_io.TextIOWrapper'>\n"
     ]
    }
   ],
   "source": [
    "# Read a File - File should exist(Read mode)\n",
    "# Write to a File - Existing(append mode) or New File(Wirte mode)\n",
    "\n",
    "def readFile(filepath):\n",
    "    with open(filepath, 'r') as f: # f is varible\n",
    "        print(type(f))\n",
    "    return \n",
    "\n",
    "filepath = 'datafiles/data.txt'\n",
    "readFile(filepath)"
   ]
  },
  {
   "cell_type": "code",
   "execution_count": 8,
   "metadata": {},
   "outputs": [
    {
     "data": {
      "text/plain": [
       "['data in line 1', 'data in line 2', '', '']"
      ]
     },
     "execution_count": 8,
     "metadata": {},
     "output_type": "execute_result"
    }
   ],
   "source": [
    "# Read a File - File should exist(Read mode)\n",
    "# Write to a File - Existing(append mode) or New File(Wirte mode)\n",
    "# Each element in the list is one line in the file- line processing\n",
    "\n",
    "def readFile(filepath):\n",
    "    with open(filepath, 'r') as f: # f is varible\n",
    "        filedata = f.read()\n",
    "        lines = filedata.split('\\n')\n",
    "        return lines\n",
    "\n",
    "filepath = 'datafiles/data.txt'\n",
    "#print(readFile(filepath))\n",
    "readFile(filepath)"
   ]
  },
  {
   "cell_type": "code",
   "execution_count": 9,
   "metadata": {},
   "outputs": [
    {
     "data": {
      "text/plain": [
       "4"
      ]
     },
     "execution_count": 9,
     "metadata": {},
     "output_type": "execute_result"
    }
   ],
   "source": [
    "# Function to count the number of charaters in a file\n",
    "\n",
    "def charCountFile(filepath):\n",
    "    count =len(readFile(filepath))\n",
    "    return count\n",
    "\n",
    "\n",
    "charCountFile('datafiles/data.txt')"
   ]
  },
  {
   "cell_type": "code",
   "execution_count": 11,
   "metadata": {},
   "outputs": [
    {
     "name": "stdout",
     "output_type": "stream",
     "text": [
      "Total string count is : 12\n",
      "count is:2\n"
     ]
    }
   ],
   "source": [
    "# Write a word count program\n",
    "\n",
    "count = 0\n",
    "word = \"hussain babu\"\n",
    "print(\"Total string count is :\", len(word))\n",
    "for i in word:\n",
    "    if i == \"s\":\n",
    "        count = count + 1\n",
    "        \n",
    "print(\"count is:\"+ str(count))\n",
    "    "
   ]
  },
  {
   "cell_type": "code",
   "execution_count": 19,
   "metadata": {},
   "outputs": [
    {
     "ename": "TypeError",
     "evalue": "unhashable type: 'list'",
     "output_type": "error",
     "traceback": [
      "\u001b[1;31m---------------------------------------------------------------------------\u001b[0m",
      "\u001b[1;31mTypeError\u001b[0m                                 Traceback (most recent call last)",
      "\u001b[1;32m<ipython-input-19-ceeb48118930>\u001b[0m in \u001b[0;36m<module>\u001b[1;34m\u001b[0m\n\u001b[0;32m     10\u001b[0m \u001b[1;33m\u001b[0m\u001b[0m\n\u001b[0;32m     11\u001b[0m \u001b[0mfilepath\u001b[0m \u001b[1;33m=\u001b[0m \u001b[1;34m'datafiles/data.txt'\u001b[0m\u001b[1;33m\u001b[0m\u001b[1;33m\u001b[0m\u001b[0m\n\u001b[1;32m---> 12\u001b[1;33m \u001b[0mwordcountfile\u001b[0m\u001b[1;33m(\u001b[0m\u001b[0mfilepath\u001b[0m\u001b[1;33m)\u001b[0m\u001b[1;33m\u001b[0m\u001b[1;33m\u001b[0m\u001b[0m\n\u001b[0m",
      "\u001b[1;32m<ipython-input-19-ceeb48118930>\u001b[0m in \u001b[0;36mwordcountfile\u001b[1;34m(filepath)\u001b[0m\n\u001b[0;32m      6\u001b[0m     \u001b[0mpattern\u001b[0m \u001b[1;33m=\u001b[0m \u001b[1;33m[\u001b[0m\u001b[1;34m'\\n'\u001b[0m\u001b[1;33m]\u001b[0m\u001b[1;33m\u001b[0m\u001b[1;33m\u001b[0m\u001b[0m\n\u001b[0;32m      7\u001b[0m     \u001b[0mfiledata\u001b[0m\u001b[1;33m=\u001b[0m\u001b[0mreadFile\u001b[0m\u001b[1;33m(\u001b[0m\u001b[0mfilepath\u001b[0m\u001b[1;33m)\u001b[0m\u001b[1;33m\u001b[0m\u001b[1;33m\u001b[0m\u001b[0m\n\u001b[1;32m----> 8\u001b[1;33m     \u001b[0mcounts\u001b[0m\u001b[1;33m=\u001b[0m\u001b[0mlen\u001b[0m\u001b[1;33m(\u001b[0m\u001b[0mre\u001b[0m\u001b[1;33m.\u001b[0m\u001b[0msplit\u001b[0m\u001b[1;33m(\u001b[0m\u001b[0mpattern\u001b[0m\u001b[1;33m,\u001b[0m \u001b[0mfiledata\u001b[0m\u001b[1;33m)\u001b[0m\u001b[1;33m)\u001b[0m\u001b[1;33m\u001b[0m\u001b[1;33m\u001b[0m\u001b[0m\n\u001b[0m\u001b[0;32m      9\u001b[0m     \u001b[1;32mreturn\u001b[0m \u001b[0mcounts\u001b[0m\u001b[1;33m\u001b[0m\u001b[1;33m\u001b[0m\u001b[0m\n\u001b[0;32m     10\u001b[0m \u001b[1;33m\u001b[0m\u001b[0m\n",
      "\u001b[1;32m~\\Anaconda3\\lib\\re.py\u001b[0m in \u001b[0;36msplit\u001b[1;34m(pattern, string, maxsplit, flags)\u001b[0m\n\u001b[0;32m    211\u001b[0m     \u001b[1;32mand\u001b[0m \u001b[0mthe\u001b[0m \u001b[0mremainder\u001b[0m \u001b[0mof\u001b[0m \u001b[0mthe\u001b[0m \u001b[0mstring\u001b[0m \u001b[1;32mis\u001b[0m \u001b[0mreturned\u001b[0m \u001b[1;32mas\u001b[0m \u001b[0mthe\u001b[0m \u001b[0mfinal\u001b[0m \u001b[0melement\u001b[0m\u001b[1;33m\u001b[0m\u001b[1;33m\u001b[0m\u001b[0m\n\u001b[0;32m    212\u001b[0m     of the list.\"\"\"\n\u001b[1;32m--> 213\u001b[1;33m     \u001b[1;32mreturn\u001b[0m \u001b[0m_compile\u001b[0m\u001b[1;33m(\u001b[0m\u001b[0mpattern\u001b[0m\u001b[1;33m,\u001b[0m \u001b[0mflags\u001b[0m\u001b[1;33m)\u001b[0m\u001b[1;33m.\u001b[0m\u001b[0msplit\u001b[0m\u001b[1;33m(\u001b[0m\u001b[0mstring\u001b[0m\u001b[1;33m,\u001b[0m \u001b[0mmaxsplit\u001b[0m\u001b[1;33m)\u001b[0m\u001b[1;33m\u001b[0m\u001b[1;33m\u001b[0m\u001b[0m\n\u001b[0m\u001b[0;32m    214\u001b[0m \u001b[1;33m\u001b[0m\u001b[0m\n\u001b[0;32m    215\u001b[0m \u001b[1;32mdef\u001b[0m \u001b[0mfindall\u001b[0m\u001b[1;33m(\u001b[0m\u001b[0mpattern\u001b[0m\u001b[1;33m,\u001b[0m \u001b[0mstring\u001b[0m\u001b[1;33m,\u001b[0m \u001b[0mflags\u001b[0m\u001b[1;33m=\u001b[0m\u001b[1;36m0\u001b[0m\u001b[1;33m)\u001b[0m\u001b[1;33m:\u001b[0m\u001b[1;33m\u001b[0m\u001b[1;33m\u001b[0m\u001b[0m\n",
      "\u001b[1;32m~\\Anaconda3\\lib\\re.py\u001b[0m in \u001b[0;36m_compile\u001b[1;34m(pattern, flags)\u001b[0m\n\u001b[0;32m    274\u001b[0m         \u001b[0mflags\u001b[0m \u001b[1;33m=\u001b[0m \u001b[0mflags\u001b[0m\u001b[1;33m.\u001b[0m\u001b[0mvalue\u001b[0m\u001b[1;33m\u001b[0m\u001b[1;33m\u001b[0m\u001b[0m\n\u001b[0;32m    275\u001b[0m     \u001b[1;32mtry\u001b[0m\u001b[1;33m:\u001b[0m\u001b[1;33m\u001b[0m\u001b[1;33m\u001b[0m\u001b[0m\n\u001b[1;32m--> 276\u001b[1;33m         \u001b[1;32mreturn\u001b[0m \u001b[0m_cache\u001b[0m\u001b[1;33m[\u001b[0m\u001b[0mtype\u001b[0m\u001b[1;33m(\u001b[0m\u001b[0mpattern\u001b[0m\u001b[1;33m)\u001b[0m\u001b[1;33m,\u001b[0m \u001b[0mpattern\u001b[0m\u001b[1;33m,\u001b[0m \u001b[0mflags\u001b[0m\u001b[1;33m]\u001b[0m\u001b[1;33m\u001b[0m\u001b[1;33m\u001b[0m\u001b[0m\n\u001b[0m\u001b[0;32m    277\u001b[0m     \u001b[1;32mexcept\u001b[0m \u001b[0mKeyError\u001b[0m\u001b[1;33m:\u001b[0m\u001b[1;33m\u001b[0m\u001b[1;33m\u001b[0m\u001b[0m\n\u001b[0;32m    278\u001b[0m         \u001b[1;32mpass\u001b[0m\u001b[1;33m\u001b[0m\u001b[1;33m\u001b[0m\u001b[0m\n",
      "\u001b[1;31mTypeError\u001b[0m: unhashable type: 'list'"
     ]
    }
   ],
   "source": [
    "# Function to count the number of  words in a file\n",
    "\n",
    "import re\n",
    "\n",
    "def wordcountfile(filepath):\n",
    "    pattern = ['\\n']\n",
    "    filedata=readFile(filepath)\n",
    "    counts=len(re.split(pattern, filedata))\n",
    "    return counts\n",
    "\n",
    "filepath = 'datafiles/data.txt'\n",
    "wordcountfile(filepath)"
   ]
  },
  {
   "cell_type": "code",
   "execution_count": 27,
   "metadata": {},
   "outputs": [
    {
     "data": {
      "text/plain": [
       "[1, 2, 3]"
      ]
     },
     "execution_count": 27,
     "metadata": {},
     "output_type": "execute_result"
    }
   ],
   "source": [
    "# Function to get unique element in a list\n",
    "\n",
    "#[1,2,3,3,2,1] -> [1,2,3]\n",
    "#Create a empty unique list[1,2,3]\n",
    "\n",
    "def uniquedata(li):\n",
    "    #Create an empty unique list\n",
    "    \n",
    "    unique =[]\n",
    "    \n",
    "    # For every element in the main list,\n",
    "    # check if it exists in the unique list.\n",
    "    # if it does not exist, add it to unique list\n",
    "    # else if it already exists, move on to the list\n",
    "    for element in li:\n",
    "        if element not in unique:\n",
    "            unique.append(element)\n",
    "            \n",
    "    return unique\n",
    "\n",
    "li = [1,2,3,3,2,1]\n",
    "\n",
    "uniquedata(li)\n",
    "\n",
    "\n",
    "    "
   ]
  },
  {
   "cell_type": "code",
   "execution_count": 13,
   "metadata": {},
   "outputs": [
    {
     "data": {
      "text/plain": [
       "['data', 'in', 'line', '1', '2', '3']"
      ]
     },
     "execution_count": 13,
     "metadata": {},
     "output_type": "execute_result"
    }
   ],
   "source": [
    "\n",
    "# Function to get unique elements in a list\n",
    "# [1,2,3,3,2,1] -> [1,2,3]\n",
    "# create a unique empty list\n",
    "def uniqueData(li):\n",
    "   unique = []\n",
    "   \n",
    "   # For every element in the main list,\n",
    "       #check if it exists in the unique list\n",
    "       #If it doesnt exists,add it to unique list\n",
    "       # If already exists move on to the next element in the main list\n",
    "   with open('Datafiles/datafile.txt','r') as f:\n",
    "       filedata = f.read()\n",
    "       lines = filedata.split('\\n')\n",
    "       for i in lines:\n",
    "           s = i.split()\n",
    "           for element in s:\n",
    "               if element not in unique:\n",
    "                   unique.append(element)\n",
    "   return unique\n",
    "\n",
    "li = [1,2,3,3,2,1]\n",
    "uniqueData(li)"
   ]
  },
  {
   "cell_type": "code",
   "execution_count": null,
   "metadata": {},
   "outputs": [],
   "source": [
    "# Function to count the number of unique\n",
    "def uniquewordcount(filepath):\n",
    "    "
   ]
  },
  {
   "cell_type": "code",
   "execution_count": 38,
   "metadata": {},
   "outputs": [
    {
     "ename": "IndentationError",
     "evalue": "unexpected indent (<ipython-input-38-f3fb4fcc41b8>, line 17)",
     "output_type": "error",
     "traceback": [
      "\u001b[1;36m  File \u001b[1;32m\"<ipython-input-38-f3fb4fcc41b8>\"\u001b[1;36m, line \u001b[1;32m17\u001b[0m\n\u001b[1;33m    with open('Datafiles/datafile.txt','r') as f:\u001b[0m\n\u001b[1;37m    ^\u001b[0m\n\u001b[1;31mIndentationError\u001b[0m\u001b[1;31m:\u001b[0m unexpected indent\n"
     ]
    }
   ],
   "source": [
    "#Function to print the ferquency count of a unique word\n",
    "#Frequency Distribution\n",
    "\n",
    "#data in line 1\n",
    "#data in line 2\n",
    "#data in line 3\n",
    "# O/P\n",
    "# Data : 3\n",
    "# in : 3\n",
    "# line : 3\n",
    "# 1 : 1\n",
    "# 2 : 1\n",
    "# 3 : 1\n",
    "\n",
    "def frequencycount(filepath):\n",
    "    fcount =[]\n",
    "     with open(filepath,'r') as f:\n",
    "               filedata = f.read()\n",
    "    lines = filedata.split('\\n')\n",
    "       for i in frequent:\n",
    "           s = i.split()\n",
    "           for count in s:\n",
    "               if count not in count:\n",
    "                   unique.append(count)\n",
    "    return unique\n",
    "\n",
    "li = [1,2,3,3,2,1]\n",
    "frequencycount(li)\n",
    "            \n",
    "            \n",
    "    "
   ]
  },
  {
   "cell_type": "code",
   "execution_count": 45,
   "metadata": {},
   "outputs": [
    {
     "name": "stdout",
     "output_type": "stream",
     "text": [
      "whats 3\n",
      "app 3\n",
      "facebook 3\n",
      "tomoto 3\n",
      "mango 3\n",
      "1 1\n",
      "2 1\n",
      "3 1\n"
     ]
    }
   ],
   "source": [
    "def readFile(filepath):\n",
    "    unique = []\n",
    "    with open(filepath,\"r\") as f:\n",
    "        filedata=f.read()\n",
    "        #print(filedata.split())\n",
    "        for i in filedata.split():\n",
    "            if i in unique:\n",
    "                continue\n",
    "            else:\n",
    "                unique.append(i)\n",
    "            print(i,filedata.split().count(i))\n",
    "    return\n",
    "readFile(\"datafiles/datafile.txt\")"
   ]
  },
  {
   "cell_type": "markdown",
   "metadata": {},
   "source": [
    "#### COntacts Application \n",
    "\n",
    "# Find and Replace Application"
   ]
  },
  {
   "cell_type": "markdown",
   "metadata": {},
   "source": [
    "# Contact application\n",
    "contact ={} # Empty dictionary\n",
    "\n",
    "def addcontact():\n",
    "    n = int(input())\n",
    "    for record in range(n):\n",
    "        name = input()\n",
    "        mobile = input()\n",
    "        email = input()\n",
    "        contact[name]=[mobile, email]\n",
    "    with open(\"contacts.txt\", \"a\") as data:\n",
    "        for user in contact.items():\n",
    "            data.write(user[0]+\",\"+user[1][0]+','+user[1][1]+\"\\n\")\n",
    "    return \"data added successfully..||\"\n",
    "\n",
    "addcontact()"
   ]
  },
  {
   "cell_type": "code",
   "execution_count": 4,
   "metadata": {},
   "outputs": [
    {
     "ename": "IndentationError",
     "evalue": "expected an indented block (<ipython-input-4-4a6e3a37c12f>, line 10)",
     "output_type": "error",
     "traceback": [
      "\u001b[1;36m  File \u001b[1;32m\"<ipython-input-4-4a6e3a37c12f>\"\u001b[1;36m, line \u001b[1;32m10\u001b[0m\n\u001b[1;33m    return fileobject\u001b[0m\n\u001b[1;37m    ^\u001b[0m\n\u001b[1;31mIndentationError\u001b[0m\u001b[1;31m:\u001b[0m expected an indented block\n"
     ]
    }
   ],
   "source": [
    "# addcontact function\n",
    "def addContact():\n",
    "    n = input()\n",
    "    for i in range(n):\n",
    "        name = input()\n",
    "        mobile = input()\n",
    "        email = input()\n",
    "        with open(contacts.txt,'w') as fileObject:\n",
    "            for line in fileobject:\n",
    "        return fileobject\n",
    "                \n",
    "addContact()             "
   ]
  },
  {
   "cell_type": "code",
   "execution_count": 22,
   "metadata": {},
   "outputs": [
    {
     "ename": "SyntaxError",
     "evalue": "invalid syntax (<ipython-input-22-36077079ef15>, line 15)",
     "output_type": "error",
     "traceback": [
      "\u001b[1;36m  File \u001b[1;32m\"<ipython-input-22-36077079ef15>\"\u001b[1;36m, line \u001b[1;32m15\u001b[0m\n\u001b[1;33m    for user in updated_data.item()\u001b[0m\n\u001b[1;37m                                   ^\u001b[0m\n\u001b[1;31mSyntaxError\u001b[0m\u001b[1;31m:\u001b[0m invalid syntax\n"
     ]
    }
   ],
   "source": [
    "def modifycontacts(contacts):\n",
    "    with open(filename, \"r\") as f:\n",
    "        for line in f:\n",
    "            line = line.strip().split(',')\n",
    "            if name in line:\n",
    "                mobile = input(\"enter mobile number to update:m\")\n",
    "                email = input(\"enter email to updates\")\n",
    "                line[1] = mobile\n",
    "                line[2] = email\n",
    "                updated_data[line[0]]=[line[2]]\n",
    "            else:\n",
    "                updated_data[line[0]]=[line[2]]\n",
    "                continue\n",
    "    with open(filename,'w') as info:\n",
    "        for user in updated_data.item()\n",
    "            info.write(user[0]+''+user[1][0]+','+user[1][1]+\"\\n\")\n",
    "                \n",
    "   \n",
    "            \n",
    "filename = input()\n",
    "modifycontacts()"
   ]
  },
  {
   "cell_type": "code",
   "execution_count": 28,
   "metadata": {},
   "outputs": [
    {
     "name": "stdout",
     "output_type": "stream",
     "text": [
      "total string count is : 12\n",
      "count is : 2\n"
     ]
    }
   ],
   "source": [
    "# word count\n",
    "\n",
    "count = 0\n",
    "word = \"hussain babu\"\n",
    "print(\"total string count is :\", len(word))\n",
    "for i in word:\n",
    "    if i == \"s\":\n",
    "        count = count + 1\n",
    "\n",
    "print(\"count is : \"+str(count))"
   ]
  },
  {
   "cell_type": "code",
   "execution_count": 8,
   "metadata": {},
   "outputs": [
    {
     "ename": "SyntaxError",
     "evalue": "invalid syntax (<ipython-input-8-1578aaf2496a>, line 4)",
     "output_type": "error",
     "traceback": [
      "\u001b[1;36m  File \u001b[1;32m\"<ipython-input-8-1578aaf2496a>\"\u001b[1;36m, line \u001b[1;32m4\u001b[0m\n\u001b[1;33m    elase:\u001b[0m\n\u001b[1;37m          ^\u001b[0m\n\u001b[1;31mSyntaxError\u001b[0m\u001b[1;31m:\u001b[0m invalid syntax\n"
     ]
    }
   ],
   "source": [
    "def Searchcontacts(name):\n",
    "    if name in contacts:\n",
    "        print(name, \"1\" , contacts[name])\n",
    "    elase:\n",
    "        print(\"is does not exist\" % name)\n",
    "    return\n",
    "\n",
    "SearchContacts(\"name1\")"
   ]
  },
  {
   "cell_type": "code",
   "execution_count": 10,
   "metadata": {},
   "outputs": [
    {
     "ename": "IndentationError",
     "evalue": "unexpected indent (<ipython-input-10-00cd5d46f990>, line 18)",
     "output_type": "error",
     "traceback": [
      "\u001b[1;36m  File \u001b[1;32m\"<ipython-input-10-00cd5d46f990>\"\u001b[1;36m, line \u001b[1;32m18\u001b[0m\n\u001b[1;33m    updated_data[line[0]]=[line[1],line[2]]\u001b[0m\n\u001b[1;37m    ^\u001b[0m\n\u001b[1;31mIndentationError\u001b[0m\u001b[1;31m:\u001b[0m unexpected indent\n"
     ]
    }
   ],
   "source": []
  },
  {
   "cell_type": "code",
   "execution_count": null,
   "metadata": {},
   "outputs": [
    {
     "name": "stdout",
     "output_type": "stream",
     "text": [
      "3\n",
      "2\n",
      "6\n",
      "5\n",
      "3\n"
     ]
    }
   ],
   "source": [
    "###### Contact Application\n",
    "contact = {} # Empty Dict\n",
    "def addContact():\n",
    "   \n",
    "   n = int(input())\n",
    "   for record in range(n):\n",
    "       name = input()\n",
    "       mobile = input()\n",
    "       email = input()\n",
    "       contact[name]=[mobile,email]\n",
    "   with open(\"datafiles/data.txt\" ,\"w\") as data:\n",
    "       for user in contact.items():\n",
    "           data.write(user[0]+\",\"+user[1][0]+\",\"+user[1][1]+\"\\n\")\n",
    "           \n",
    "   return \"Data Added\"        \n",
    "addContact()"
   ]
  },
  {
   "cell_type": "code",
   "execution_count": null,
   "metadata": {},
   "outputs": [],
   "source": [
    "def modifyContact(filename):\n",
    "   updated_data= {}\n",
    "   name = input()\n",
    "   with open(filename) as f:\n",
    "       \n",
    "       for line in f:\n",
    "           line = line.strip().split(',')\n",
    "           if name in line:\n",
    "               mobile = input()\n",
    "               email = input()\n",
    "               line[1]= mobile\n",
    "               line[2]=email\n",
    "               updated_data[line[0]]=[line[1],line[2]]\n",
    "           else:\n",
    "               updated_data[line[0]]=[line[1],line[2]]\n",
    "               continue\n",
    "               \n",
    "   with open(filename,\"w\") as info:\n",
    "       for user in updated_data.items():\n",
    "           info.write(user[0]+\",\"+user[1][0]+\",\"+user[1][1]+\"\\n\")\n",
    "filename=input()\n",
    "modifyContact(filename)"
   ]
  },
  {
   "cell_type": "code",
   "execution_count": null,
   "metadata": {},
   "outputs": [],
   "source": []
  }
 ],
 "metadata": {
  "kernelspec": {
   "display_name": "Python 3",
   "language": "python",
   "name": "python3"
  },
  "language_info": {
   "codemirror_mode": {
    "name": "ipython",
    "version": 3
   },
   "file_extension": ".py",
   "mimetype": "text/x-python",
   "name": "python",
   "nbconvert_exporter": "python",
   "pygments_lexer": "ipython3",
   "version": "3.7.3"
  }
 },
 "nbformat": 4,
 "nbformat_minor": 2
}
