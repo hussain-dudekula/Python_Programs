{
 "cells": [
  {
   "cell_type": "code",
   "execution_count": 5,
   "metadata": {},
   "outputs": [
    {
     "name": "stdout",
     "output_type": "stream",
     "text": [
      "5\n",
      "1\n",
      "5\n",
      "14\n",
      "30\n",
      "55\n"
     ]
    }
   ],
   "source": [
    "# Write a program to  sum of squres of a given N number\n",
    "\n",
    "n = int(input())\n",
    "sum = 0\n",
    "for i in range(1, n+1):\n",
    "    if (i <= n):\n",
    "        i = i**2\n",
    "        sum = sum + i\n",
    "        print(sum)\n",
    "    "
   ]
  },
  {
   "cell_type": "markdown",
   "metadata": {},
   "source": [
    "**Input format**\n",
    "\n",
    "the first line contains a single integer N denoting\n",
    "the next line contains N space separated integers\n",
    "\n",
    "**Explanation**\n",
    "\n",
    "- li = [3, 2, -1, -2, -3] (Original list)\n",
    "-sort the data\n",
    "- li = [-3, -2, -1, -1, -2, -3]  (sorted list\n",
    "- pl = [1, 2, 2, 3, 3] (Postive sorted list)\n",
    "- pl[0] -> check if this number is -ve or +ve in the\n",
    "- if pl[0] in li:\n",
    "     - return pl[0]\n",
    "- else\n",
    "     - return pl[0]\n",
    "     \n",
    "                                  \n",
    "                                  \n",
    "                                  "
   ]
  },
  {
   "cell_type": "code",
   "execution_count": null,
   "metadata": {},
   "outputs": [
    {
     "name": "stdout",
     "output_type": "stream",
     "text": [
      "5\n"
     ]
    }
   ],
   "source": [
    "\n",
    "\n",
    "n = int(input())\n",
    "s = input()\n",
    "s= s.split()\n",
    "li =[]\n"
   ]
  },
  {
   "cell_type": "code",
   "execution_count": 11,
   "metadata": {},
   "outputs": [
    {
     "name": "stdout",
     "output_type": "stream",
     "text": [
      "3\n"
     ]
    }
   ],
   "source": [
    "\n",
    "li = [-1, -2, 2, 3,1]\n",
    "\n",
    "li.sort()\n",
    "\n",
    "pl = []\n",
    "\n",
    "for i in li:\n",
    "    pl.append(abs(i))\n",
    "    \n",
    "pl.sort()\n",
    "if pl[-1] in li:\n",
    "    print(pl[-1])\n",
    "else:\n",
    "    print(-pl[-1])\n",
    "    \n",
    "    \n",
    "    "
   ]
  },
  {
   "cell_type": "markdown",
   "metadata": {},
   "source": [
    "\n",
    "\n",
    "Farthestformzero\n",
    "li = [-1, -2, 1, -10, 9]\n",
    "\n",
    "-10\n"
   ]
  },
  {
   "cell_type": "markdown",
   "metadata": {},
   "source": [
    "### problem - 3\n",
    "you are given three numbers, a, b and c.\n",
    "write a program to find the largest number\n",
    "which is less than or wqual to c and leaves\n",
    "remainder b when divided by a.\n",
    "\n",
    "3 2 9\n",
    "9 % 3 == 0\n",
    "8 % 3 == 2\n",
    "\n",
    "1 2 4 \n",
    "4 % 1 == 0\n",
    "3 % 1 == 0\n",
    "2 % 1 == 0\n",
    "1 % 1 == 0\n",
    "-1 % 1 == 0\n",
    "\n"
   ]
  },
  {
   "cell_type": "code",
   "execution_count": 14,
   "metadata": {},
   "outputs": [
    {
     "data": {
      "text/plain": [
       "-1"
      ]
     },
     "execution_count": 14,
     "metadata": {},
     "output_type": "execute_result"
    }
   ],
   "source": [
    "# Functions of count divisor program\n",
    "\n",
    "def cal(a, b, c):\n",
    "    for i in range(c, a-1, -1): # c, c-1 ,... a\n",
    "        if i % a == b:\n",
    "            return i\n",
    "        return -1\n",
    "        \n",
    "cal(1, 2, 4)\n",
    "           "
   ]
  },
  {
   "cell_type": "code",
   "execution_count": 8,
   "metadata": {},
   "outputs": [
    {
     "name": "stdout",
     "output_type": "stream",
     "text": [
      "34567\n",
      "597456029\n"
     ]
    }
   ],
   "source": [
    "# Factorial of N value\n",
    "\n",
    "\n",
    "def F(n):\n",
    "    fact = 1\n",
    "    for i in range(1, n+1):\n",
    "        fact = fact+i\n",
    "        \n",
    "    print(fact)\n",
    "        \n",
    "        \n",
    "n=int(input())\n",
    "    \n",
    "F(n)"
   ]
  },
  {
   "cell_type": "code",
   "execution_count": 44,
   "metadata": {},
   "outputs": [
    {
     "name": "stdout",
     "output_type": "stream",
     "text": [
      "5\n",
      "yes\n"
     ]
    }
   ],
   "source": [
    "# Write a program is palindrome or not\n",
    "\n",
    "def palindrome(name):\n",
    "    if(name==name[::-1]):\n",
    "        print(\"yes\")\n",
    "    else:\n",
    "         print(\"No\")\n",
    "            \n",
    "name = input()\n",
    "palindrome(name)"
   ]
  },
  {
   "cell_type": "code",
   "execution_count": 2,
   "metadata": {},
   "outputs": [
    {
     "name": "stdout",
     "output_type": "stream",
     "text": [
      "9\n",
      "2 3 5 7 "
     ]
    }
   ],
   "source": [
    "# Write a prime number \n",
    "\n",
    "def isprime(n):\n",
    "    count = 0\n",
    "              \n",
    "    if count == 2:\n",
    "                \n",
    "        return True\n",
    "                \n",
    "    else:\n",
    "                \n",
    "        return False\n",
    "                    \n",
    "def numofprime(r):\n",
    "    for h in range(1, r+1):\n",
    "        if isprime(h):\n",
    "            print(h, end = \" \")\n",
    "            \n",
    "j = int(input())\n",
    "            \n",
    "numofprime(j)\n",
    "    for i in range(1,n+1):\n",
    "        if n%i == 0:\n",
    "            count = count+1\n",
    "            \n",
    "            "
   ]
  },
  {
   "cell_type": "code",
   "execution_count": 3,
   "metadata": {},
   "outputs": [
    {
     "name": "stdout",
     "output_type": "stream",
     "text": [
      "YES\n"
     ]
    }
   ],
   "source": [
    "#write a two string program\n",
    "\n",
    "S = \"abc bca\"\n",
    "S = S.split()\n",
    "s1 = S[0]\n",
    "s2 = S[1]\n",
    "\"\"\"\n",
    "sm1 = 0\n",
    "for ch in s2:\n",
    "sm1 += ord(ch)\n",
    "\"\"\"\n",
    "\n",
    "if sorted(s1) == sorted(s2):\n",
    "    \n",
    "    print(\"YES\")\n",
    "else:\n",
    "    print(\"NO\")\n",
    "    \n",
    "\n",
    "    \n",
    "  \n"
   ]
  },
  {
   "cell_type": "code",
   "execution_count": 21,
   "metadata": {},
   "outputs": [
    {
     "name": "stdout",
     "output_type": "stream",
     "text": [
      "AbcdDCBa\n",
      "aBCDdcbA\n"
     ]
    }
   ],
   "source": [
    "# Function ro toggle string charater\n",
    "\n",
    "def toggle():\n",
    "    s = input()\n",
    "    new=\"\"\n",
    "    capitals = ['A','B','C','D','E']\n",
    "    small = ['a','b','c','d','e']\n",
    "    for i in s:\n",
    "        if i in capitals:\n",
    "            n=capitals.index(i)\n",
    "            new=new+small[n]\n",
    "        if i in small:\n",
    "            m=small.index(i)\n",
    "            new=new+capitals[m]\n",
    "    print(new)\n",
    "            \n",
    "toggle()\n",
    "            \n",
    "            \n",
    "           "
   ]
  },
  {
   "cell_type": "code",
   "execution_count": 39,
   "metadata": {},
   "outputs": [
    {
     "data": {
      "text/plain": [
       "['a', 'B', 'c']"
      ]
     },
     "execution_count": 39,
     "metadata": {},
     "output_type": "execute_result"
    }
   ],
   "source": [
    "\"\"\"\n",
    "s = \"abc\"\n",
    "\n",
    "s.islower() # Check the case of a charater\n",
    "s.isupper() \n",
    "\n",
    "s.lower() # convert \n",
    "\"\"\"\n",
    "\n",
    "def togglestring(s):\n",
    "    t = [] #[]\n",
    "    for c in s:\n",
    "        if c.islower():\n",
    "            t.append(c.upper())\n",
    "        else:\n",
    "            t.append(c.lower())\n",
    "    return  t #\"\".join(t)\n",
    "togglestring(\"AbC\")"
   ]
  },
  {
   "cell_type": "markdown",
   "metadata": {},
   "source": [
    "### problem:Duration\n",
    "\n",
    "***Input***: start time, end time (HH MM) <br>\n",
    "        HH -> {00, o1. 02, 03........23} <br>\n",
    "        mm -> {00, 01, 02, 03........59} <br>\n",
    "        HH MM -> {00 00, 23 59}\n",
    "        \n",
    "        \n",
    "***Output***: time difference in HH MM"
   ]
  },
  {
   "cell_type": "code",
   "execution_count": 38,
   "metadata": {},
   "outputs": [
    {
     "name": "stdout",
     "output_type": "stream",
     "text": [
      "1 0\n"
     ]
    }
   ],
   "source": [
    "# caluculate the time diffenrence as total number of minuters\n",
    "# convert the total minutes into HH MM\n",
    "\n",
    "s = \"1 44 2 14\"\n",
    "\n",
    "def minuteDifference(s):\n",
    "    s = s.split()\n",
    "    sh = int(s[0])         #sh -> start hour         Ex: input 1h 44m 2h 14m\n",
    "    sm = int(s[1])         #sm -> start minutes                1 44 -> 104 m\n",
    "    eh = int(s[2])         #eh -> end hour                  -  2 14 -> 134m\n",
    "    em = int(s[3])         #em -> end minutes                =  -0 7 -> 30 minutes\n",
    "    startminutes = (sh * 60) + sm\n",
    "    endminutes = (eh * 60) + sm\n",
    "    return endminutes - startminutes\n",
    "\n",
    "def outputtimeformat(minutes):\n",
    "    # convert minutes to HH MM\n",
    "    hh = minutes // 60\n",
    "    mm = minutes % 60\n",
    "    print(hh, mm)\n",
    "    return\n",
    "\n",
    "\n",
    "minutes = minuteDifference(s)\n",
    "outputtimeformat(minutes)\n",
    "    "
   ]
  },
  {
   "cell_type": "markdown",
   "metadata": {},
   "source": [
    "### Instructions\n",
    "- exam to be taken incognito mode of the web brower\n",
    "- login into hackearearth in incognito mode take the test\n",
    "\n",
    "- 4 questions\n",
    "     - 3 questions are 5 marks each\n",
    "     - 1 question is 15 marks\n",
    "     -duration 1 hour\n",
    "     - 15 mark question should be submitted is python on hackerearth and in flowchat \n"
   ]
  },
  {
   "cell_type": "code",
   "execution_count": null,
   "metadata": {},
   "outputs": [],
   "source": []
  }
 ],
 "metadata": {
  "kernelspec": {
   "display_name": "Python 3",
   "language": "python",
   "name": "python3"
  },
  "language_info": {
   "codemirror_mode": {
    "name": "ipython",
    "version": 3
   },
   "file_extension": ".py",
   "mimetype": "text/x-python",
   "name": "python",
   "nbconvert_exporter": "python",
   "pygments_lexer": "ipython3",
   "version": "3.7.3"
  }
 },
 "nbformat": 4,
 "nbformat_minor": 2
}
