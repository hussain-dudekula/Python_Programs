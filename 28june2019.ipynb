{
 "cells": [
  {
   "cell_type": "markdown",
   "metadata": {},
   "source": [
    "### Python Problems pratice session"
   ]
  },
  {
   "cell_type": "code",
   "execution_count": null,
   "metadata": {},
   "outputs": [],
   "source": []
  },
  {
   "cell_type": "code",
   "execution_count": 21,
   "metadata": {},
   "outputs": [
    {
     "data": {
      "text/plain": [
       "'Apssdc'"
      ]
     },
     "execution_count": 21,
     "metadata": {},
     "output_type": "execute_result"
    }
   ],
   "source": [
    "#Print given characters as a word with starting character capital form and remaining lower\n",
    " # input : A P S S D C\n",
    "#  output : Apssdc\n",
    "\n",
    "n = 'A P S S D C'\n",
    "a = n.split()\n",
    "f = ''\n",
    "for i in a:\n",
    "    f = f+i\n",
    "f.title()"
   ]
  },
  {
   "cell_type": "code",
   "execution_count": 32,
   "metadata": {},
   "outputs": [
    {
     "name": "stdout",
     "output_type": "stream",
     "text": [
      "a p s s d c\n"
     ]
    },
    {
     "data": {
      "text/plain": [
       "'Apssdc'"
      ]
     },
     "execution_count": 32,
     "metadata": {},
     "output_type": "execute_result"
    }
   ],
   "source": [
    "# anther method\n",
    "\n",
    "charaters=input() # a p s s d c\n",
    "word=charaters.split() #['a','p','s','s','d','c']\n",
    "''.join(word).capitalize()\n"
   ]
  },
  {
   "cell_type": "code",
   "execution_count": 33,
   "metadata": {},
   "outputs": [
    {
     "name": "stdout",
     "output_type": "stream",
     "text": [
      "hai hello world\n",
      "hello\n",
      "world\n"
     ]
    }
   ],
   "source": [
    "#Print the maximum length word of given words\n",
    "# input : Hai hello world\n",
    "# out put : hello\n",
    "#           world\n",
    "\n",
    "words=input().split() # ['hai','hello','world']\n",
    "lenghts=[]\n",
    "for word in words:\n",
    "    lenghts.append(len(word))\n",
    "max_lenght=max(lenghts)\n",
    "for word in words:\n",
    "    if max_lenght==len(word):\n",
    "        print(word)"
   ]
  },
  {
   "cell_type": "code",
   "execution_count": 36,
   "metadata": {},
   "outputs": [
    {
     "name": "stdout",
     "output_type": "stream",
     "text": [
      "hai hello world\n",
      "hello\n",
      "world\n"
     ]
    }
   ],
   "source": [
    "       # other method\n",
    "\n",
    "words=input().split() # ['hai','hello','world']\n",
    "max_length=max(list(map(len, words)))\n",
    "for word in words:\n",
    "    if max_length==len(word):\n",
    "        print(word)"
   ]
  },
  {
   "cell_type": "code",
   "execution_count": 44,
   "metadata": {},
   "outputs": [
    {
     "name": "stdout",
     "output_type": "stream",
     "text": [
      "banti balu anana\n",
      "b\n",
      "banti\n",
      "balu\n"
     ]
    }
   ],
   "source": [
    "#3. Print all the words which starts with the given character, If no words matches with the given condition you should print -1\n",
    "# input :ramu ravi balu\n",
    "# outpot : r\n",
    "#         ramu\n",
    "#         ravi\n",
    "\n",
    "words=input().split()\n",
    "c=input()\n",
    "match=0\n",
    "for i in words:\n",
    "    if i.startswith(c):\n",
    "        print(i)\n",
    "        match+=1\n",
    "if match==0:\n",
    "    print(-1)\n",
    "\n"
   ]
  },
  {
   "cell_type": "code",
   "execution_count": null,
   "metadata": {},
   "outputs": [],
   "source": []
  },
  {
   "cell_type": "code",
   "execution_count": null,
   "metadata": {},
   "outputs": [],
   "source": []
  },
  {
   "cell_type": "code",
   "execution_count": null,
   "metadata": {},
   "outputs": [],
   "source": [
    "# 4. Print all the words which words not ends with vowels(a,e,i,o,u)\n",
    "# input : ramu ravi balu raju mahesh\n",
    "# output: mahesh\n",
    "\n",
    "\n"
   ]
  },
  {
   "cell_type": "code",
   "execution_count": 4,
   "metadata": {},
   "outputs": [
    {
     "name": "stdout",
     "output_type": "stream",
     "text": [
      "ramu akash balu\n",
      "akash\n"
     ]
    }
   ],
   "source": [
    "# 5. Print all the words which word contains duplicate characters\n",
    "# i/p : ramu akash balu\n",
    "#  o/p : akash\n",
    "names=input().split()  #['ramu','akash','balu']\n",
    "for name in names:\n",
    "    for ch in name:\n",
    "        if name.count(ch)>1:\n",
    "            print(name)\n",
    "            break"
   ]
  },
  {
   "cell_type": "code",
   "execution_count": 46,
   "metadata": {},
   "outputs": [
    {
     "name": "stdout",
     "output_type": "stream",
     "text": [
      "HeLLo WOrld\n"
     ]
    },
    {
     "data": {
      "text/plain": [
       "'DLRow OllEhd'"
      ]
     },
     "execution_count": 46,
     "metadata": {},
     "output_type": "execute_result"
    }
   ],
   "source": [
    "# 6. Swap the case of all characters in given string except last character\n",
    "# i/p : HellowOrld\n",
    "# o/p : hELLOWoRLd\n",
    "\n",
    "\n",
    "word=input()\n",
    "word[::-1].swapcase()+word[-1]\n"
   ]
  },
  {
   "cell_type": "code",
   "execution_count": 50,
   "metadata": {},
   "outputs": [
    {
     "name": "stdout",
     "output_type": "stream",
     "text": [
      "Hello World\n",
      "2\n"
     ]
    }
   ],
   "source": [
    "# 7. Print the number of words in a given string (here word starting character contains UPPER letter)\n",
    "# i/p : HelloWorld\n",
    "# o/p : 2\n",
    "\n",
    "word=input()\n",
    "count=0\n",
    "for char in word:\n",
    "    if char.isupper():\n",
    "        count+=1\n",
    "print(count)"
   ]
  },
  {
   "cell_type": "code",
   "execution_count": 2,
   "metadata": {},
   "outputs": [
    {
     "name": "stdout",
     "output_type": "stream",
     "text": [
      "HelloWorld\n"
     ]
    },
    {
     "data": {
      "text/plain": [
       "2"
      ]
     },
     "execution_count": 2,
     "metadata": {},
     "output_type": "execute_result"
    }
   ],
   "source": [
    "      # anther method\n",
    "    \n",
    "len(list(filter(str.isupper,input())))"
   ]
  },
  {
   "cell_type": "code",
   "execution_count": null,
   "metadata": {},
   "outputs": [],
   "source": [
    "8. Print the number of digits, alphabets and any other \n",
    "www.way2sms.com\n",
    "DIGITS 1\n",
    "ALPHABETS  12\n",
    "OTHER 2\n",
    "\n",
    "1.Print even and odd numbers up to given range.\n",
    "\n",
    "#### input : 10 \n",
    "#### output:\n",
    "#### even numbers -->  2,4,6,8,10\n",
    "#### odd numbers --> 1,3,5,7,9\n",
    "\n",
    "2.print given numbers prime or not.\n",
    "\n",
    "#### input: --> 5 9\n",
    "#### output: -->5  True\n",
    "####                   9   False\n",
    "\n",
    " 3.Print second Max Ex: 12 34 23 45 65 o/p:45\n",
    "\n",
    "3. Print prime numbers up to given range. --> input: 10 output: 2 3 5 7\n",
    "\n",
    "4.Print factorial of a given number if it is a prime otherwise print power of the value.\n",
    "\n",
    "#### test cases : 2\n",
    "#### 5  --> 120\n",
    "#### 4 --> 16\n",
    "\n",
    "\n",
    " 5.print count and sum of digits in a given string \n",
    "\n",
    "#### test cases: 2\n",
    "#### 5 ---> 1 5\n",
    "#### 3 5 7 2 3  ---> 5 20\n",
    "\n",
    "6.Print factorial of a value if the length of a string is  prime otherwise print string in reverse\n",
    "\n",
    "#### test cases : 3\n",
    "\n",
    "#### b --> 1 \n",
    "#### hello -->120\n",
    "#### hello python ->nohtyp olleh\n"
   ]
  },
  {
   "cell_type": "markdown",
   "metadata": {},
   "source": [
    "### list Comprehension topic\n"
   ]
  },
  {
   "cell_type": "code",
   "execution_count": 7,
   "metadata": {},
   "outputs": [
    {
     "data": {
      "text/plain": [
       "[0, 1, 2, 3, 4, 5, 6, 7, 8, 9]"
      ]
     },
     "execution_count": 7,
     "metadata": {},
     "output_type": "execute_result"
    }
   ],
   "source": [
    "li=[]\n",
    "for i in range(10):\n",
    "    li.append(i)\n",
    "li"
   ]
  },
  {
   "cell_type": "code",
   "execution_count": 12,
   "metadata": {},
   "outputs": [
    {
     "data": {
      "text/plain": [
       "[0, 1, 4, 9, 16, 25, 36, 49, 64, 81]"
      ]
     },
     "execution_count": 12,
     "metadata": {},
     "output_type": "execute_result"
    }
   ],
   "source": [
    "# anthere method and short cut\n",
    "\n",
    "li = [i for i in range(10)]  # i ane variable list lo vundhi , indirect to append method ni use chestam\n",
    "li"
   ]
  },
  {
   "cell_type": "code",
   "execution_count": 13,
   "metadata": {},
   "outputs": [
    {
     "data": {
      "text/plain": [
       "[0, 1, 4, 9, 16, 25, 36, 49, 64, 81]"
      ]
     },
     "execution_count": 13,
     "metadata": {},
     "output_type": "execute_result"
    }
   ],
   "source": [
    "li = [i*i for i in range(10)]\n",
    "li"
   ]
  },
  {
   "cell_type": "code",
   "execution_count": 20,
   "metadata": {},
   "outputs": [
    {
     "data": {
      "text/plain": [
       "[5, 10, 15, 20, 25, 30, 35, 40, 45, 50]"
      ]
     },
     "execution_count": 20,
     "metadata": {},
     "output_type": "execute_result"
    }
   ],
   "source": [
    "li = [5*i for i in range(1, 11)]\n",
    "li"
   ]
  },
  {
   "cell_type": "code",
   "execution_count": 1,
   "metadata": {},
   "outputs": [
    {
     "name": "stdout",
     "output_type": "stream",
     "text": [
      "ramu akash balu\n",
      "akash\n"
     ]
    }
   ],
   "source": [
    "names=input().split()  #['ramu','akash','balu']\n",
    "for name in names:\n",
    "    for ch in name:\n",
    "        if name.count(ch)>1:\n",
    "            print(name)\n",
    "            break\n",
    "        "
   ]
  },
  {
   "cell_type": "code",
   "execution_count": 3,
   "metadata": {},
   "outputs": [
    {
     "name": "stdout",
     "output_type": "stream",
     "text": [
      "[0, 2, 4, 6, 8, 10]\n"
     ]
    }
   ],
   "source": [
    "li = [i for i in range(0,11,2)]\n",
    "print(li)"
   ]
  },
  {
   "cell_type": "code",
   "execution_count": 29,
   "metadata": {},
   "outputs": [
    {
     "ename": "IndentationError",
     "evalue": "expected an indented block (<ipython-input-29-90a29d084d34>, line 12)",
     "output_type": "error",
     "traceback": [
      "\u001b[1;36m  File \u001b[1;32m\"<ipython-input-29-90a29d084d34>\"\u001b[1;36m, line \u001b[1;32m12\u001b[0m\n\u001b[1;33m    print(num,\"is a prime number\")\u001b[0m\n\u001b[1;37m                                  ^\u001b[0m\n\u001b[1;31mIndentationError\u001b[0m\u001b[1;31m:\u001b[0m expected an indented block\n"
     ]
    }
   ],
   "source": [
    "#print given numbers prime or not.\n",
    "\n",
    "num = int(input(\"Enter a number: \"))  \n",
    "if num > 1:\n",
    "    for i in range(2,num):\n",
    "        if (num % i) == 0:\n",
    "            print(num,\"is not a prime number\")\n",
    "\n",
    "            #print(i,\"times\",num//i,\"is\",num)\n",
    "            break  \n",
    "        else:\n",
    "print(num,\"is a prime number\")\n",
    "       "
   ]
  },
  {
   "cell_type": "code",
   "execution_count": null,
   "metadata": {},
   "outputs": [],
   "source": []
  },
  {
   "cell_type": "code",
   "execution_count": null,
   "metadata": {},
   "outputs": [],
   "source": []
  },
  {
   "cell_type": "code",
   "execution_count": null,
   "metadata": {},
   "outputs": [],
   "source": []
  }
 ],
 "metadata": {
  "kernelspec": {
   "display_name": "Python 3",
   "language": "python",
   "name": "python3"
  },
  "language_info": {
   "codemirror_mode": {
    "name": "ipython",
    "version": 3
   },
   "file_extension": ".py",
   "mimetype": "text/x-python",
   "name": "python",
   "nbconvert_exporter": "python",
   "pygments_lexer": "ipython3",
   "version": "3.7.3"
  }
 },
 "nbformat": 4,
 "nbformat_minor": 2
}
